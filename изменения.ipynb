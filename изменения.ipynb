{
 "cells": [
  {
   "cell_type": "markdown",
   "metadata": {},
   "source": [
    "код для изменения возраста"
   ]
  },
  {
   "cell_type": "code",
   "execution_count": null,
   "metadata": {},
   "outputs": [],
   "source": [
    "f = open('Data\\\\age_and_type.txt','w', encoding='utf_8')  # открытие в режиме записи\n",
    "for i in range (16,91):\n",
    "    if i < 35:\n",
    "        f.write(f'Женщина,{i} лет,Молодая\\n')\n",
    "        f.write(f'Мужчина,{i} лет,Молодой\\n')\n",
    "    elif i >= 35 and i < 60:\n",
    "        f.write(f'Женщина,{i} лет,Среднего возраста\\n')\n",
    "        f.write(f'Мужчина,{i} лет,Среднего возраста\\n')\n",
    "    elif i >= 60 and i < 75:\n",
    "        f.write(f'Женщина,{i} лет,Пожилая\\n')\n",
    "        f.write(f'Мужчина,{i} лет,Пожилой\\n')\n",
    "    elif i >= 75 and i < 90:\n",
    "        f.write(f'Женщина,{i} лет,Старческого возраста\\n')\n",
    "        f.write(f'Мужчина,{i} лет,Старческого возраста\\n')\n",
    "    else:\n",
    "        f.write(f'Женщина,{i} лет,Старческого возраста\\n')\n",
    "        f.write(f'Мужчина,{i} лет,Старческого возраста')"
   ]
  },
  {
   "cell_type": "markdown",
   "metadata": {},
   "source": [
    "код для изменения роста"
   ]
  },
  {
   "cell_type": "code",
   "execution_count": 2,
   "metadata": {},
   "outputs": [],
   "source": [
    "f = open('Data\\\\height.txt','w', encoding='utf_8')\n",
    "\n",
    "for i in range (100, 211):\n",
    "    if i < 140:\n",
    "        f.write(f'ж;{i} см,Карликовый рост\\n')\n",
    "        f.write(f'м;{i} см,Карликовый рост\\n')\n",
    "    elif i >= 140 and i < 150:\n",
    "        f.write(f'ж;{i} см,Очень низкий рост\\n')\n",
    "        f.write(f'м;{i} см,Карликовый рост\\n')\n",
    "    elif i >= 150 and i < 160:\n",
    "        f.write(f'ж;{i} см,Низкий рост\\n')\n",
    "        f.write(f'м;{i} см,Очень низкйи рост\\n')\n",
    "    elif i >= 160 and i < 163:\n",
    "        f.write(f'ж;{i} см,Ниже среднего рост\\n')\n",
    "        f.write(f'м;{i} см,Низкий рост\\n')\n",
    "    elif i >= 163 and i < 167:\n",
    "        f.write(f'ж;{i} см,Средний рост\\n')\n",
    "        f.write(f'м;{i} см,Низкий рост\\n')\n",
    "    elif i >= 167 and i < 170:\n",
    "        f.write(f'ж;{i} см,Выше среднего рост\\n')\n",
    "        f.write(f'м;{i} см,Низкий рост\\n')\n",
    "    elif i >= 170 and i < 173:\n",
    "        f.write(f'ж;{i} см,Высокий рост\\n')\n",
    "        f.write(f'м;{i} см,Ниже среднего рост\\n')\n",
    "    elif i >= 173 and i < 177:\n",
    "        f.write(f'ж;{i} см,Высокий рост\\n')\n",
    "        f.write(f'м;{i} см,Средний рост\\n')\n",
    "    elif i >= 177 and i < 180:\n",
    "        f.write(f'ж;{i} см,Высокий рост\\n')\n",
    "        f.write(f'м;{i} см,Выше среднего рост\\n')\n",
    "    elif i >= 180 and i < 190:\n",
    "        f.write(f'ж;{i} см,Очень высокий рост\\n')\n",
    "        f.write(f'м;{i} см,Высокий рост\\n')\n",
    "    elif i == 190:\n",
    "        f.write(f'ж;{i} см,Очень высокий рост\\n')\n",
    "        f.write(f'м;{i} см,Очень высокий рост\\n')\n",
    "    elif i > 190 and i <= 200:\n",
    "        f.write(f'ж;{i} см,Гигантский рост\\n')\n",
    "        f.write(f'м;{i} см,Очень высокий рост\\n')\n",
    "    elif i < 210:\n",
    "        f.write(f'ж;{i} см,Гигантский рост\\n')\n",
    "        f.write(f'м;{i} см,Гигантский рост\\n')\n",
    "    else:\n",
    "        f.write(f'ж;{i} см,Гигантский рост\\n')\n",
    "        f.write(f'м;{i} см,Гигантский рост')"
   ]
  }
 ],
 "metadata": {
  "kernelspec": {
   "display_name": "Python 3",
   "language": "python",
   "name": "python3"
  },
  "language_info": {
   "codemirror_mode": {
    "name": "ipython",
    "version": 3
   },
   "file_extension": ".py",
   "mimetype": "text/x-python",
   "name": "python",
   "nbconvert_exporter": "python",
   "pygments_lexer": "ipython3",
   "version": "3.11.1"
  }
 },
 "nbformat": 4,
 "nbformat_minor": 2
}
